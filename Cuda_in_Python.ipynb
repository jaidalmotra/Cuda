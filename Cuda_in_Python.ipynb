{
  "nbformat": 4,
  "nbformat_minor": 0,
  "metadata": {
    "colab": {
      "provenance": [],
      "gpuType": "T4",
      "authorship_tag": "ABX9TyP49VORWjKptIsSDdCExJ3H",
      "include_colab_link": true
    },
    "kernelspec": {
      "name": "python3",
      "display_name": "Python 3"
    },
    "language_info": {
      "name": "python"
    },
    "accelerator": "GPU"
  },
  "cells": [
    {
      "cell_type": "markdown",
      "metadata": {
        "id": "view-in-github",
        "colab_type": "text"
      },
      "source": [
        "<a href=\"https://colab.research.google.com/github/jaidalmotra/Cuda/blob/main/Cuda_in_Python.ipynb\" target=\"_parent\"><img src=\"https://colab.research.google.com/assets/colab-badge.svg\" alt=\"Open In Colab\"/></a>"
      ]
    },
    {
      "cell_type": "markdown",
      "source": [
        "# How to use cuda in Colab\n"
      ],
      "metadata": {
        "id": "WuBliPwlqXD_"
      }
    },
    {
      "cell_type": "code",
      "source": [
        "!pip install cuda-python"
      ],
      "metadata": {
        "colab": {
          "base_uri": "https://localhost:8080/"
        },
        "id": "9yvcKa25j-mn",
        "outputId": "f2b474dd-3e7e-4db2-e9ea-5b3c0a80a64e"
      },
      "execution_count": 2,
      "outputs": [
        {
          "output_type": "stream",
          "name": "stdout",
          "text": [
            "Collecting cuda-python\n",
            "  Downloading cuda_python-12.3.0-cp310-cp310-manylinux_2_17_x86_64.manylinux2014_x86_64.whl (23.6 MB)\n",
            "\u001b[2K     \u001b[90m━━━━━━━━━━━━━━━━━━━━━━━━━━━━━━━━━━━━━━━━\u001b[0m \u001b[32m23.6/23.6 MB\u001b[0m \u001b[31m52.5 MB/s\u001b[0m eta \u001b[36m0:00:00\u001b[0m\n",
            "\u001b[?25hInstalling collected packages: cuda-python\n",
            "Successfully installed cuda-python-12.3.0\n"
          ]
        }
      ]
    },
    {
      "cell_type": "code",
      "source": [
        "# Check GPU availability\n",
        "import torch\n",
        "torch.cuda.is_available()\n"
      ],
      "metadata": {
        "colab": {
          "base_uri": "https://localhost:8080/"
        },
        "id": "K7dAb0y-kGJ8",
        "outputId": "2daab3f6-6f18-4cb6-f4ae-756677243577"
      },
      "execution_count": 3,
      "outputs": [
        {
          "output_type": "execute_result",
          "data": {
            "text/plain": [
              "True"
            ]
          },
          "metadata": {},
          "execution_count": 3
        }
      ]
    },
    {
      "cell_type": "code",
      "source": [
        "!nvidia-smi\n"
      ],
      "metadata": {
        "colab": {
          "base_uri": "https://localhost:8080/"
        },
        "id": "9G3hLqI0k1JX",
        "outputId": "f64ec363-3811-4178-eb99-c9d44dc598c6"
      },
      "execution_count": 4,
      "outputs": [
        {
          "output_type": "stream",
          "name": "stdout",
          "text": [
            "Fri Feb  9 06:27:30 2024       \n",
            "+---------------------------------------------------------------------------------------+\n",
            "| NVIDIA-SMI 535.104.05             Driver Version: 535.104.05   CUDA Version: 12.2     |\n",
            "|-----------------------------------------+----------------------+----------------------+\n",
            "| GPU  Name                 Persistence-M | Bus-Id        Disp.A | Volatile Uncorr. ECC |\n",
            "| Fan  Temp   Perf          Pwr:Usage/Cap |         Memory-Usage | GPU-Util  Compute M. |\n",
            "|                                         |                      |               MIG M. |\n",
            "|=========================================+======================+======================|\n",
            "|   0  Tesla T4                       Off | 00000000:00:04.0 Off |                    0 |\n",
            "| N/A   41C    P0              26W /  70W |    121MiB / 15360MiB |      0%      Default |\n",
            "|                                         |                      |                  N/A |\n",
            "+-----------------------------------------+----------------------+----------------------+\n",
            "                                                                                         \n",
            "+---------------------------------------------------------------------------------------+\n",
            "| Processes:                                                                            |\n",
            "|  GPU   GI   CI        PID   Type   Process name                            GPU Memory |\n",
            "|        ID   ID                                                             Usage      |\n",
            "|=======================================================================================|\n",
            "+---------------------------------------------------------------------------------------+\n"
          ]
        }
      ]
    },
    {
      "cell_type": "code",
      "source": [
        "import torch\n",
        "\n",
        "# Check GPU availability\n",
        "if torch.cuda.is_available():\n",
        "    # Set device to GPU\n",
        "    device = torch.device(\"cuda\")\n",
        "    print(\"Cuda available\")\n",
        "    print(torch.cuda.get_device_name(0))\n",
        "else:\n",
        "    device = torch.device(\"cpu\")\n",
        "    print(\"CUDA is not available. Switching to CPU.\")\n",
        "\n",
        "# Example usage\n",
        "x = torch.randn(5, 5).to(device)\n",
        "y = torch.randn(5, 5).to(device)\n",
        "\n",
        "# Perform operations on GPU\n",
        "z = x + y\n",
        "\n",
        "# Move result back to CPU if needed\n",
        "z_cpu = z.to(\"cpu\")\n",
        "z\n"
      ],
      "metadata": {
        "colab": {
          "base_uri": "https://localhost:8080/"
        },
        "id": "A2oim2ufld29",
        "outputId": "2e36825e-f25c-4307-ebff-ab70697c9e27"
      },
      "execution_count": 1,
      "outputs": [
        {
          "output_type": "stream",
          "name": "stdout",
          "text": [
            "Cuda available\n",
            "Tesla T4\n"
          ]
        },
        {
          "output_type": "execute_result",
          "data": {
            "text/plain": [
              "tensor([[-1.2461,  0.0655, -0.5245,  0.3524,  2.4836],\n",
              "        [ 1.9315, -1.1436, -0.2533, -1.4938,  1.5631],\n",
              "        [ 1.9780, -0.7118, -5.0194, -0.1446, -1.3006],\n",
              "        [ 0.5053, -1.0809, -1.1687, -0.6461,  1.7631],\n",
              "        [-2.8332,  1.0968, -1.4914,  0.7832,  1.7377]], device='cuda:0')"
            ]
          },
          "metadata": {},
          "execution_count": 1
        }
      ]
    },
    {
      "cell_type": "code",
      "source": [
        "# Check if GPU is available\n",
        "import tensorflow as tf\n",
        "\n",
        "device_name = tf.test.gpu_device_name()\n",
        "if device_name != '/device:GPU:0':\n",
        "    print('GPU device not found')\n",
        "else:\n",
        "    print('Found GPU at: {}'.format(device_name))\n",
        "\n",
        "# Check CUDA version\n",
        "!nvcc --version"
      ],
      "metadata": {
        "colab": {
          "base_uri": "https://localhost:8080/"
        },
        "id": "CBcK68Qxmi5D",
        "outputId": "04e7328b-b761-4817-82d7-947472534408"
      },
      "execution_count": 9,
      "outputs": [
        {
          "output_type": "stream",
          "name": "stdout",
          "text": [
            "Found GPU at: /device:GPU:0\n",
            "nvcc: NVIDIA (R) Cuda compiler driver\n",
            "Copyright (c) 2005-2023 NVIDIA Corporation\n",
            "Built on Tue_Aug_15_22:02:13_PDT_2023\n",
            "Cuda compilation tools, release 12.2, V12.2.140\n",
            "Build cuda_12.2.r12.2/compiler.33191640_0\n"
          ]
        }
      ]
    },
    {
      "cell_type": "code",
      "source": [
        "import tensorflow as tf\n",
        "\n",
        "# Check GPU availability\n",
        "if tf.config.list_physical_devices('GPU'):\n",
        "    print(\"GPU is available.\")\n",
        "else:\n",
        "    print(\"GPU is not available. Switching to CPU.\")\n",
        "\n",
        "# Example usage\n",
        "with tf.device('/GPU:0'):  # Use '/CPU:0' to force CPU\n",
        "    x = tf.random.normal((5, 5))\n",
        "    y = tf.random.normal((5, 5))\n",
        "\n",
        "    # Perform operations on GPU\n",
        "    z = x + y\n",
        "\n",
        "# The result 'z' is automatically on GPU if available\n"
      ],
      "metadata": {
        "colab": {
          "base_uri": "https://localhost:8080/"
        },
        "id": "rO81hErFnwJr",
        "outputId": "ba1fea3d-8c50-4226-8581-14af830dff04"
      },
      "execution_count": null,
      "outputs": [
        {
          "output_type": "stream",
          "name": "stdout",
          "text": [
            "GPU is available.\n"
          ]
        }
      ]
    },
    {
      "cell_type": "code",
      "source": [
        "!pip install numba\n"
      ],
      "metadata": {
        "colab": {
          "base_uri": "https://localhost:8080/"
        },
        "id": "wPNPX1CUj5pZ",
        "outputId": "e5deae28-2212-4615-f9dd-0c2115b94807"
      },
      "execution_count": 5,
      "outputs": [
        {
          "output_type": "stream",
          "name": "stdout",
          "text": [
            "Requirement already satisfied: numba in /usr/local/lib/python3.10/dist-packages (0.58.1)\n",
            "Requirement already satisfied: llvmlite<0.42,>=0.41.0dev0 in /usr/local/lib/python3.10/dist-packages (from numba) (0.41.1)\n",
            "Requirement already satisfied: numpy<1.27,>=1.22 in /usr/local/lib/python3.10/dist-packages (from numba) (1.23.5)\n"
          ]
        }
      ]
    },
    {
      "cell_type": "markdown",
      "source": [
        "Multiplication of two matrix"
      ],
      "metadata": {
        "id": "iK21pvS2p0Eg"
      }
    },
    {
      "cell_type": "code",
      "source": [
        "%%writefile prog.cu\n",
        "#include <stdio.h>\n",
        "\n",
        "#define N 3  // Size of the matrices (N x N)\n",
        "\n",
        "\n",
        "__global__ void matrixMultiplication(int *a, int *b, int *c) {\n",
        "    // Calculate the row and column indices of the element to be computed\n",
        "    int row = blockIdx.y * blockDim.y + threadIdx.y;\n",
        "    int col = blockIdx.x * blockDim.x + threadIdx.x;\n",
        "\n",
        "    // Perform matrix multiplication\n",
        "    if (row < N && col < N) {\n",
        "        int sum = 0;\n",
        "        for (int k = 0; k < N; k++) {\n",
        "            sum += a[row * N + k] * b[k * N + col];\n",
        "        }\n",
        "        c[row * N + col] = sum;\n",
        "    }\n",
        "}\n",
        "\n",
        "int main() {\n",
        "    int a[N][N], b[N][N], c[N][N];  // Input and output matrices\n",
        "\n",
        "    // Initialize matrices a and b with random values\n",
        "    for (int i = 0; i < N; i++) {\n",
        "        for (int j = 0; j < N; j++) {\n",
        "            a[i][j] = i + j;\n",
        "            b[i][j] = i - j;\n",
        "        }\n",
        "    }\n",
        "\n",
        "    // Declare GPU memory pointers\n",
        "    int *dev_a, *dev_b, *dev_c;\n",
        "\n",
        "    // Allocate GPU memory\n",
        "    cudaMalloc((void**)&dev_a, N * N * sizeof(int));\n",
        "    cudaMalloc((void**)&dev_b, N * N * sizeof(int));\n",
        "    cudaMalloc((void**)&dev_c, N * N * sizeof(int));\n",
        "\n",
        "    // Copy input matrices from host to GPU memory\n",
        "    cudaMemcpy(dev_a, a, N * N * sizeof(int), cudaMemcpyHostToDevice);\n",
        "    cudaMemcpy(dev_b, b, N * N * sizeof(int), cudaMemcpyHostToDevice);\n",
        "\n",
        "    // Define grid and block dimensions\n",
        "    dim3 threadsPerBlock(N, N);\n",
        "    dim3 numBlocks(1, 1);\n",
        "\n",
        "    // Launch CUDA kernel to perform matrix multiplication\n",
        "    matrixMultiplication<<<numBlocks, threadsPerBlock>>>(dev_a, dev_b, dev_c);\n",
        "\n",
        "    // Copy result matrix from GPU to host memory\n",
        "    cudaMemcpy(c, dev_c, N * N * sizeof(int), cudaMemcpyDeviceToHost);\n",
        "\n",
        "    // Print the result matrix\n",
        "    printf(\"Result Matrix:\\n\");\n",
        "    for (int i = 0; i < N; i++) {\n",
        "        for (int j = 0; j < N; j++) {\n",
        "            printf(\"%d\\t\", c[i][j]);\n",
        "        }\n",
        "        printf(\"\\n\");\n",
        "    }\n",
        "\n",
        "    // Free GPU memory\n",
        "    cudaFree(dev_a);\n",
        "    cudaFree(dev_b);\n",
        "    cudaFree(dev_c);\n",
        "\n",
        "    return 0;\n",
        "}\n"
      ],
      "metadata": {
        "colab": {
          "base_uri": "https://localhost:8080/"
        },
        "id": "dEumSBHpkANY",
        "outputId": "b101aa0b-a6ce-49c0-cb39-1d36432c40ed"
      },
      "execution_count": 12,
      "outputs": [
        {
          "output_type": "stream",
          "name": "stdout",
          "text": [
            "Writing prog.cu\n"
          ]
        }
      ]
    },
    {
      "cell_type": "code",
      "source": [
        "!nvcc prog.cu -o prog"
      ],
      "metadata": {
        "id": "XrlbKZZ2nd5o"
      },
      "execution_count": 19,
      "outputs": []
    },
    {
      "cell_type": "code",
      "source": [
        "!./prog"
      ],
      "metadata": {
        "colab": {
          "base_uri": "https://localhost:8080/"
        },
        "id": "kW7_oHuRoiTg",
        "outputId": "82b238a1-93c3-4fe9-e4a6-7519afa3400a"
      },
      "execution_count": 21,
      "outputs": [
        {
          "output_type": "stream",
          "name": "stdout",
          "text": [
            "Result Matrix:\n",
            "5\t2\t-1\t\n",
            "8\t2\t-4\t\n",
            "11\t2\t-7\t\n"
          ]
        }
      ]
    }
  ]
}